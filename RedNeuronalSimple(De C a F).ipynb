{
  "nbformat": 4,
  "nbformat_minor": 0,
  "metadata": {
    "colab": {
      "name": "Untitled0.ipynb",
      "provenance": [],
      "authorship_tag": "ABX9TyM2r0Et6ywvA7T+tD9JwEOZ"
    },
    "kernelspec": {
      "name": "python3",
      "display_name": "Python 3"
    },
    "language_info": {
      "name": "python"
    }
  },
  "cells": [
    {
      "cell_type": "code",
      "execution_count": 4,
      "metadata": {
        "id": "Z6_d6fe_KvY2"
      },
      "outputs": [],
      "source": [
        "import tensorflow as tf\n",
        "import numpy as np"
      ]
    },
    {
      "cell_type": "code",
      "source": [
        "#Establecemos los arreglos con los datos de entrenamiento\n",
        "celsius = np.array([-40, -10, 0, 8, 15, 22, 38], dtype=float)\n",
        "fahrenheit = np.array([-40, 14, 32, 46, 59, 72, 100], dtype=float)"
      ],
      "metadata": {
        "id": "4wShtZc3K5Kh"
      },
      "execution_count": 5,
      "outputs": []
    },
    {
      "cell_type": "code",
      "source": [
        "#Utilizaremos Keras para especificar la capa de salida\n",
        "capa = tf.keras.layers.Dense(units=1, input_shape=[1])\n",
        "modelo = tf.keras.Sequential([capa])"
      ],
      "metadata": {
        "id": "HF-IlwUtNnut"
      },
      "execution_count": 6,
      "outputs": []
    },
    {
      "cell_type": "code",
      "source": [
        "#Establecemos las propiedades del modelo\n",
        "#Utilizamos Adam como algoritmo para agustar los pesos y sesgos\n",
        "#Para la funcion de perdida utilizamod mean_squared_error (poca cantidad de errores grandes es peor que un gran cantidad de errores pequeños )\n",
        "modelo.compile(\n",
        "    optimizer=tf.keras.optimizers.Adam(0.1),\n",
        "    loss='mean_squared_error'\n",
        ")"
      ],
      "metadata": {
        "id": "3XFRynDpPBJt"
      },
      "execution_count": 8,
      "outputs": []
    },
    {
      "cell_type": "code",
      "source": [
        "#Entrenando\n",
        "#utilizamos fit para indicar los datos de entrada y salida, y los ciclos que se repetira\n",
        "print(\"iniciando entrenamiento\")\n",
        "historial = modelo.fit(celsius, fahrenheit, epochs=700, verbose=False)\n",
        "print(\"entrenamiento finalizado\")"
      ],
      "metadata": {
        "colab": {
          "base_uri": "https://localhost:8080/"
        },
        "id": "RFuwBp7sPVwc",
        "outputId": "5d67d5ac-220b-479a-d3dd-cabcdbe674e3"
      },
      "execution_count": 9,
      "outputs": [
        {
          "output_type": "stream",
          "name": "stdout",
          "text": [
            "iniciando entrenamiento\n",
            "entrenamiento finalizado\n"
          ]
        }
      ]
    },
    {
      "cell_type": "code",
      "source": [
        "#revisaremos la funcion de perdida para corroborar los resultados\n",
        "import matplotlib.pyplot as plt\n",
        "plt.xlabel(\"# Vueltas\")\n",
        "plt.ylabel(\"Magnitud de perdida\")\n",
        "plt.plot(historial.history[\"loss\"])"
      ],
      "metadata": {
        "colab": {
          "base_uri": "https://localhost:8080/",
          "height": 296
        },
        "id": "LqH9N9KOTtIu",
        "outputId": "cb6fbe83-d651-4b63-9b46-27a9391afdab"
      },
      "execution_count": 12,
      "outputs": [
        {
          "output_type": "execute_result",
          "data": {
            "text/plain": [
              "[<matplotlib.lines.Line2D at 0x7f1d8a8a92d0>]"
            ]
          },
          "metadata": {},
          "execution_count": 12
        },
        {
          "output_type": "display_data",
          "data": {
            "text/plain": [
              "<Figure size 432x288 with 1 Axes>"
            ],
            "image/png": "[encoded data removed]"
          },
          "metadata": {
            "needs_background": "light"
          }
        }
      ]
    },
    {
      "cell_type": "code",
      "source": [
        "#Finalizado el entrenamiento procedemos a las pruebas\n",
        "resultado = modelo.predict([150.0])\n",
        "print(\"El Resultado es \" + str(resultado) + \"fahrenheit\")"
      ],
      "metadata": {
        "colab": {
          "base_uri": "https://localhost:8080/"
        },
        "id": "chmMu3P_UiQC",
        "outputId": "1da369ea-2bb8-4086-baec-6500e662ced5"
      },
      "execution_count": 15,
      "outputs": [
        {
          "output_type": "stream",
          "name": "stdout",
          "text": [
            "El Resultado es [[301.7927]]fahrenheit\n"
          ]
        }
      ]
    },
    {
      "cell_type": "code",
      "source": [
        "#Finalizado el entrenamiento procedemos a las pruebas\n",
        "resultado = modelo.predict([100.0])\n",
        "print(\"El Resultado es \" + str(resultado) + \"fahrenheit\")"
      ],
      "metadata": {
        "colab": {
          "base_uri": "https://localhost:8080/"
        },
        "id": "6fCfmB9IVHW7",
        "outputId": "c7486fcc-5da9-4475-f6d8-7da5a54405eb"
      },
      "execution_count": 17,
      "outputs": [
        {
          "output_type": "stream",
          "name": "stdout",
          "text": [
            "El Resultado es [[211.66457]]fahrenheit\n"
          ]
        }
      ]
    }
  ]
}